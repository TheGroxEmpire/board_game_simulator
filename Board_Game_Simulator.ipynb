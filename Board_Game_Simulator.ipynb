{
  "nbformat": 4,
  "nbformat_minor": 0,
  "metadata": {
    "colab": {
      "name": "Board_Game_Simulator.ipynb",
      "provenance": [],
      "collapsed_sections": [],
      "authorship_tag": "ABX9TyM85Fzjz9KdRSxWAPMchknc",
      "include_colab_link": true
    },
    "kernelspec": {
      "name": "python3",
      "display_name": "Python 3"
    },
    "language_info": {
      "name": "python"
    }
  },
  "cells": [
    {
      "cell_type": "markdown",
      "metadata": {
        "id": "view-in-github",
        "colab_type": "text"
      },
      "source": [
        "<a href=\"https://colab.research.google.com/github/TheGroxEmpire/board_game_simulator/blob/main/Board_Game_Simulator.ipynb\" target=\"_parent\"><img src=\"https://colab.research.google.com/assets/colab-badge.svg\" alt=\"Open In Colab\"/></a>"
      ]
    },
    {
      "cell_type": "code",
      "execution_count": 24,
      "metadata": {
        "id": "pWWiBvSNlrZT"
      },
      "outputs": [],
      "source": [
        "import random\n",
        "import matplotlib.pyplot as plt\n",
        "import numpy as np\n",
        "import math"
      ]
    },
    {
      "cell_type": "code",
      "source": [
        "def roll_dice():\n",
        "  return random.randint(1,12)\n",
        "\n",
        "class Player:\n",
        "  def __init__(self):\n",
        "    self.death = False\n",
        "    self.stamina = 15\n",
        "    self.resolve = 12\n",
        "    self.agility = 7\n",
        "    self.knowledge = 4\n",
        "    self.perception = 6\n",
        "    self.charisma = 3\n",
        "    self.damage = 1\n",
        "    self.combat_bonus = 2\n",
        "    self.combat_stat = \"stamina\"\n",
        "    self.combat = 0\n",
        "    self.weapon_ability = \"none\"\n",
        "\n",
        "  def equip_weapon(self, damage, combat_bonus, combat_stat, weapon_ability = \"none\"):\n",
        "    self.damage = damage\n",
        "    self.combat_bonus = combat_bonus\n",
        "    self.combat_stat = combat_stat\n",
        "    self.weapon_ability = weapon_ability\n",
        "\n",
        "class Monster:\n",
        "  def __init__(self, name, stamina, combat, stamina_damage, resolve_damage, stamina_combat, combat_bonus = 0, agility_damage = 0, knowledge_damage = 0, perception_damage = 0, charisma_damage = 0):\n",
        "    self.death = False\n",
        "    self.name = name\n",
        "    self.stamina = stamina\n",
        "    self.combat = combat\n",
        "    self.stamina_damage = stamina_damage\n",
        "    self.resolve_damage = resolve_damage\n",
        "    self.stamina_combat = stamina_combat\n",
        "    self.combat_bonus = combat_bonus\n",
        "    self.agility_damage = agility_damage\n",
        "    self.knowledge_damage = knowledge_damage\n",
        "    self.perception_damage = perception_damage\n",
        "    self.charisma_damage = charisma_damage\n",
        "\n",
        "  def voice_of_the_apocalypse(self):\n",
        "    self.stamina_damage += 1\n",
        "    self.resolve_damage += 1\n",
        "    self.agility_damage += 1\n",
        "    self.knowledge_damage += 1\n",
        "    self.perception_damage += 1\n",
        "    self.charisma_damage += 1\n",
        "\n",
        "  def refracted_king(self, n_exchange):\n",
        "    if n_exchange % 2 == 0:\n",
        "      self.stamina_damage = 0\n",
        "      self.resolve_damage = 5\n",
        "    else:\n",
        "      self.stamina_damage = 5\n",
        "      self.resolve_damage = 0\n",
        "\n",
        "def hit_check(player_dice, enemy_dice):\n",
        "  player_hit = player_dice <= player.combat and player_dice < 12 and enemy_dice <= player_dice or enemy_dice > enemy.combat or enemy_dice >= 12\n",
        "  enemy_hit = enemy_dice <= enemy.combat and enemy_dice < 12 and enemy_dice > player_dice or player_dice > player.combat or player_dice >= 12\n",
        "  return player_hit, enemy_hit\n",
        "  \n",
        "\n",
        "fists = 1, 2, \"stamina\"\n",
        "thiefs_dagger = 2, 1, \"agility\", \"surprise_attack\"\n",
        "thorned_claymore = 4, 1, \"stamina\"\n",
        "poachers_shortbow = 2, 1, \"perception\", \"true_strike\"\n",
        "worn_arming_sword = 2, 3, \"stamina\", \"clash_of_steel\"\n",
        "\n",
        "bloated_corpse = \"bloated_corpse\", 8, 0, 1, 2, True, 2\n",
        "spineless_thief = \"spineless_thief\", 5, 5, 1, 0, False\n",
        "deep_lord_enchanter = \"deep_lord_enchanter\", 10, 9, 2, 2, False\n",
        "deep_lord_council = \"deep_lord_council\", 12, 10, 2, 4, False\n",
        "northern_invader = \"northern_invader\", 12, 0, 2, 0, True\n",
        "six_eyed_wolf = \"six_eyed_wolf\", 7, 9, 2, 0, False\n",
        "voice_of_the_apocalypse = \"voice_of_the_apocalypse\", 12, 12, 1, 1, False, 0, 1, 1, 1, 1\n",
        "amber_chrysalis = \"amber_chrysalis\", 3, 7, 0, 0, False\n",
        "horse_eater_wasp = \"horse_eater_wasp\", 4, 10, 2, 0, False, 0, 1\n",
        "lordless_knight = \"lordless_knight\", 8, 0, 2, 0, True, 3\n",
        "royal_wyvern = \"royal_wyvern\", 7, 0, 4, 0, True, 4\n",
        "refracted_king = \"refracted_king\", 12, 0, 5, 0, True, 6\n",
        "abandoned_sinner = \"abandoned_sinner\", 6, 9, 2, False, 0, 0, 0, 1\n",
        "cthonian_eel = \"cthonian_eel\", 9, 0, 2, 0, True, 2\n",
        "soul_hunter = \"soul_hunter\", 4, 9, 1, 0, False"
      ],
      "metadata": {
        "id": "5NW-28smsVbF"
      },
      "execution_count": 132,
      "outputs": []
    },
    {
      "cell_type": "code",
      "source": [
        "enemy_death_count = 0\n",
        "player_death_count = 0\n",
        "player_stamina_lost = []\n",
        "number_of_exchange = []\n",
        "player_resolve_lost = []\n",
        "\n",
        "#insert player weapon below\n",
        "weapon_name = worn_arming_sword\n",
        "\n",
        "#insert enemy monster below\n",
        "monster_name = six_eyed_wolf\n",
        "\n",
        "for i in range(10000):\n",
        "  player = Player()\n",
        "  player.equip_weapon(*weapon_name)\n",
        "  enemy = Monster(*monster_name)\n",
        "  n_exchange = 0\n",
        "  stamina_lost = 0\n",
        "  while (enemy.death != True or player.death != True):\n",
        "    if n_exchange % 2 == 0 and enemy.name == \"voice_of_the_apocalypse\":\n",
        "      enemy.voice_of_the_apocalypse()\n",
        "    elif n_exchange >= 3 and enemy.name == \"amber_chrysalis\":\n",
        "      enemy = Monster(*horse_eater_wasp)\n",
        "    elif enemy.name == \"refracted_king\":\n",
        "      enemy.refracted_king(n_exchange)\n",
        "\n",
        "    enemy_dice = roll_dice()\n",
        "    player_dice = roll_dice()\n",
        "    n_exchange += 1\n",
        "\n",
        "    combat_stat = {\"stamina\": round(player.stamina / 2),\n",
        "                   \"agility\": player.agility,\n",
        "                   \"perception\": player.perception,\n",
        "                   \"knowledge\": player.knowledge,}\n",
        "    player.combat = combat_stat[player.combat_stat] + player.combat_bonus\n",
        "    #print(f\"Player combat_stat: {player.combat}\")\n",
        "\n",
        "    if enemy.stamina_combat:\n",
        "      enemy.combat = enemy.stamina\n",
        "      #print(f\"Enemy combat_stat: {enemy.combat}\")\n",
        "    \n",
        "    enemy.combat += enemy.combat_bonus\n",
        "    player_hit, enemy_hit = hit_check(player_dice, enemy_dice)\n",
        "\n",
        "    if player_hit and enemy.name == \"deep_lord_council\":\n",
        "      enemy_dice = roll_dice()\n",
        "      player_hit, enemy_hit = hit_check(player_dice, enemy_dice)\n",
        "    elif enemy.name == \"northern_invader\" and enemy.stamina < 4:\n",
        "      enemy.combat = 12\n",
        "      enemy.stamina_combat = False\n",
        "    elif n_exchange == 1 and enemy.name == \"cthonian_eel\":\n",
        "      enemy_dice = roll_dice()\n",
        "      player_hit, enemy_hit = hit_check(player_dice, enemy_dice)\n",
        "\n",
        "    if enemy.name == \"lordless_knight\":\n",
        "      enemy_hit = 0\n",
        "      player.stamina -= enemy.stamina_damage\n",
        "\n",
        "    if player_hit:\n",
        "      enemy.stamina -= player.damage\n",
        "      if (n_exchange == 1 and player.weapon_ability == \"surprise_attack\"):\n",
        "          enemy.stamina -= player.damage\n",
        "      elif (player_dice == 1 and player.weapon_ability == \"true_strike\"):\n",
        "          enemy.stamina -= 1\n",
        "      elif (player_dice == enemy_dice and player.weapon_ability == \"clash_of_steel\"):\n",
        "          enemy.stamina -= 1\n",
        "      \n",
        "      if enemy.name == \"royal_wyvern\":\n",
        "        enemy.stamina += 1\n",
        "      #print(f\"Enemy took damage with {enemy_dice} roll and {enemy.combat} dice. Player rolls {player_dice} and {player.combat} combat.\")\n",
        "    elif enemy_hit:\n",
        "      if enemy.name == \"six_eyed_wolf\":\n",
        "        player.stamina -= math.floor((15 - player.stamina) / 4)\n",
        "      elif enemy.name == \"soul_hunter\":\n",
        "        if player.resolve > 1:\n",
        "          player.resolve = 1\n",
        "        else:\n",
        "          player.resolve = 0\n",
        "      elif n_exchange == 1 and enemy.name == \"cthonian_eel\":\n",
        "        player.stamina -= enemy.stamina_damage\n",
        "      player.stamina -= enemy.stamina_damage\n",
        "      player.resolve -= enemy.resolve_damage\n",
        "      player.agility -= enemy.agility_damage\n",
        "      player.knowledge -= enemy.knowledge_damage\n",
        "      player.perception -= enemy.perception_damage\n",
        "      player.charisma -= enemy.charisma_damage\n",
        "      #print(f\"Player took damage with {player_dice} roll and {player.combat} combat. Enemy rolls {enemy_dice} and {enemy.combat} combat.\")\n",
        "      \n",
        "\n",
        "    if enemy.stamina <= 0:\n",
        "      enemy.death = True\n",
        "      if enemy.name == \"bloated_corpse\":\n",
        "        player.stamina -= 1\n",
        "      enemy_death_count += 1\n",
        "      stamina_lost = 15 - player.stamina\n",
        "      resolve_lost = 12 - player.resolve\n",
        "      player_stamina_lost.append(stamina_lost)\n",
        "      number_of_exchange.append(n_exchange)\n",
        "      player_resolve_lost.append(resolve_lost)\n",
        "      break\n",
        "    elif player.stamina <= 0 or player.resolve <= 0:\n",
        "      player.death = True\n",
        "      player_death_count += 1\n",
        "      number_of_exchange.append(n_exchange)\n",
        "      break\n",
        "\n",
        "print(enemy.name)\n",
        "print(f\"Number of enemy's deaths: {enemy_death_count}\")\n",
        "print(f\"Number of player's deaths: {player_death_count}\")\n",
        "\n",
        "fig, ax1 = plt.subplots(figsize =(7, 4))\n",
        "ax1.hist(player_stamina_lost)\n",
        "ax1.set_title('Player Stamina Lost')\n",
        "ax1.set_xlabel('Stamina Lost')\n",
        "ax1.set_ylabel('Simulation')\n",
        "\n",
        "fig, ax2 = plt.subplots(figsize =(7, 4))\n",
        "ax2.hist(number_of_exchange)\n",
        "ax2.set_title('Number of Exchange')\n",
        "ax2.set_xlabel('Exchange')\n",
        "ax2.set_ylabel('Simulation')\n",
        "plt.show()\n",
        "\n",
        "fig, ax3 = plt.subplots(figsize =(7, 4))\n",
        "ax3.hist(player_resolve_lost)\n",
        "ax3.set_title('Player Resolve Lost')\n",
        "ax3.set_xlabel('Resolve')\n",
        "ax3.set_ylabel('Simulation')\n",
        "plt.show()"
      ],
      "metadata": {
        "colab": {
          "base_uri": "https://localhost:8080/",
          "height": 903
        },
        "id": "InHTTmcHP5IT",
        "outputId": "357d77a4-06a2-4ddd-9690-01d22c4d5d35"
      },
      "execution_count": 134,
      "outputs": [
        {
          "output_type": "stream",
          "name": "stdout",
          "text": [
            "six_eyed_wolf\n",
            "Number of enemy's deaths: 8024\n",
            "Number of player's deaths: 1976\n"
          ]
        },
        {
          "output_type": "display_data",
          "data": {
            "image/png": "[encoded data removed]",
            "text/plain": [
              "<Figure size 504x288 with 1 Axes>"
            ]
          },
          "metadata": {
            "needs_background": "light"
          }
        },
        {
          "output_type": "display_data",
          "data": {
            "image/png": "[encoded data removed]",
            "text/plain": [
              "<Figure size 504x288 with 1 Axes>"
            ]
          },
          "metadata": {
            "needs_background": "light"
          }
        },
        {
          "output_type": "display_data",
          "data": {
            "image/png": "[encoded data removed]",
            "text/plain": [
              "<Figure size 504x288 with 1 Axes>"
            ]
          },
          "metadata": {
            "needs_background": "light"
          }
        }
      ]
    }
  ]
}